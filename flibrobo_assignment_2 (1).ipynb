{
  "nbformat": 4,
  "nbformat_minor": 0,
  "metadata": {
    "colab": {
      "name": "flibrobo assignment 2",
      "provenance": []
    },
    "kernelspec": {
      "name": "python3",
      "display_name": "Python 3"
    }
  },
  "cells": [
    {
      "cell_type": "code",
      "metadata": {
        "id": "HFNx5Lpk4KPc",
        "colab_type": "code",
        "colab": {}
      },
      "source": [
        "import tensorflow as tf"
      ],
      "execution_count": null,
      "outputs": []
    },
    {
      "cell_type": "code",
      "metadata": {
        "id": "8ILvaC9_4h35",
        "colab_type": "code",
        "colab": {}
      },
      "source": [
        "from tensorflow import keras\n",
        "from tensorflow.keras import layers"
      ],
      "execution_count": 4,
      "outputs": []
    },
    {
      "cell_type": "code",
      "metadata": {
        "id": "qtIbXFa4_eZB",
        "colab_type": "code",
        "colab": {}
      },
      "source": [
        "from keras.models import Sequential, load_model\n",
        "from keras.layers import Convolution2D as Conv2D\n",
        "from keras.layers import MaxPooling2D\n",
        "from keras.layers import Flatten\n",
        "from keras.layers import Dense, Dropout, Activation\n",
        "from keras.preprocessing.image import ImageDataGenerator"
      ],
      "execution_count": 8,
      "outputs": []
    },
    {
      "cell_type": "code",
      "metadata": {
        "id": "uaXqDn2kD5As",
        "colab_type": "code",
        "colab": {}
      },
      "source": [
        "input_shape=(150,150,3)\n",
        "img_width, img_height = 150, 150"
      ],
      "execution_count": 10,
      "outputs": []
    },
    {
      "cell_type": "markdown",
      "metadata": {
        "id": "BySJvRkZEUyY",
        "colab_type": "text"
      },
      "source": [
        "Adding Layers and intializing CNN"
      ]
    },
    {
      "cell_type": "code",
      "metadata": {
        "id": "-yoOsZQFBOKG",
        "colab_type": "code",
        "colab": {}
      },
      "source": [
        "model = Sequential()\n",
        "model.add(Conv2D(32, (3, 3), input_shape=input_shape))\n",
        "model.add(Activation('relu'))\n",
        "model.add(MaxPooling2D(pool_size=(2, 2)))\n",
        "model.add(Dropout(0.2))\n",
        "\n",
        "model.add(Conv2D(32, (3, 3)))\n",
        "model.add(Activation('relu'))\n",
        "model.add(MaxPooling2D(pool_size=(2, 2)))\n",
        "model.add(Dropout(0.2))\n",
        "\n",
        "model.add(Conv2D(64, (3, 3)))\n",
        "model.add(Activation('relu'))\n",
        "model.add(MaxPooling2D(pool_size=(2, 2)))\n",
        "model.add(Dropout(0.2))\n",
        "\n",
        "#flatten layer\n",
        "model.add(Flatten()) \n",
        "# Output convert into one dimension layer and will go to Dense layer\n",
        "model.add(Dense(64))\n",
        "model.add(Activation('relu'))\n",
        "model.add(Dropout(0.5))\n",
        "model.add(Dense(1))\n",
        "model.add(Dense(3, activation='softmax'))\n"
      ],
      "execution_count": 11,
      "outputs": []
    },
    {
      "cell_type": "markdown",
      "metadata": {
        "id": "ilCphWF7EPDZ",
        "colab_type": "text"
      },
      "source": [
        "Fitting the CNN to the images and Data Augmentation\n"
      ]
    },
    {
      "cell_type": "code",
      "metadata": {
        "id": "1TlfLcIXC85V",
        "colab_type": "code",
        "colab": {}
      },
      "source": [
        "train_datagen = ImageDataGenerator(rescale=1./255, shear_range=0.2, zoom_range=0.2, horizontal_flip=True)"
      ],
      "execution_count": 13,
      "outputs": []
    },
    {
      "cell_type": "markdown",
      "metadata": {
        "id": "FhGyjZpqWbcj",
        "colab_type": "text"
      },
      "source": [
        ""
      ]
    },
    {
      "cell_type": "code",
      "metadata": {
        "id": "IHzVn1EyDEa0",
        "colab_type": "code",
        "colab": {}
      },
      "source": [
        "test_datagen = ImageDataGenerator(rescale=1./255)"
      ],
      "execution_count": 14,
      "outputs": []
    },
    {
      "cell_type": "code",
      "metadata": {
        "id": "jqAu5i1pDGSX",
        "colab_type": "code",
        "colab": {
          "base_uri": "https://localhost:8080/",
          "height": 35
        },
        "outputId": "e7abff1a-d9db-4fc8-b819-b1da73d4d5b4"
      },
      "source": [
        "training_set = train_datagen.flow_from_directory('/content/drive/My Drive/Amazon_webscraping/Train',target_size=(150,150),batch_size=32,class_mode='categorical')"
      ],
      "execution_count": 17,
      "outputs": [
        {
          "output_type": "stream",
          "text": [
            "Found 270 images belonging to 3 classes.\n"
          ],
          "name": "stdout"
        }
      ]
    },
    {
      "cell_type": "code",
      "metadata": {
        "id": "3mv24HijDUmr",
        "colab_type": "code",
        "colab": {
          "base_uri": "https://localhost:8080/",
          "height": 35
        },
        "outputId": "c031fb09-837c-4741-855a-b20de31a1e41"
      },
      "source": [
        "test_set = train_datagen.flow_from_directory('/content/drive/My Drive/Amazon_webscraping/Test',target_size=(150,150),batch_size=32,class_mode='categorical')"
      ],
      "execution_count": 18,
      "outputs": [
        {
          "output_type": "stream",
          "text": [
            "Found 60 images belonging to 3 classes.\n"
          ],
          "name": "stdout"
        }
      ]
    },
    {
      "cell_type": "markdown",
      "metadata": {
        "id": "AsO86J4cEY1l",
        "colab_type": "text"
      },
      "source": [
        "intiating optimizer and configure parameters"
      ]
    },
    {
      "cell_type": "code",
      "metadata": {
        "id": "fkbjs3YMDmuP",
        "colab_type": "code",
        "colab": {}
      },
      "source": [
        "\n",
        "from keras.optimizers import Adam\n",
        "opt = Adam(lr=0.001)\n",
        "model.compile(optimizer=opt, loss='categorical_crossentropy', metrics=['accuracy'])"
      ],
      "execution_count": 19,
      "outputs": []
    },
    {
      "cell_type": "markdown",
      "metadata": {
        "id": "-8Thm-KeE6WM",
        "colab_type": "text"
      },
      "source": [
        "Compile the model"
      ]
    },
    {
      "cell_type": "code",
      "metadata": {
        "id": "5UoXLdPUFLv6",
        "colab_type": "code",
        "colab": {
          "base_uri": "https://localhost:8080/",
          "height": 835
        },
        "outputId": "2e49440b-1fe1-4611-80c6-819f395a7604"
      },
      "source": [
        "print(model.summary())"
      ],
      "execution_count": 20,
      "outputs": [
        {
          "output_type": "stream",
          "text": [
            "Model: \"sequential_3\"\n",
            "_________________________________________________________________\n",
            "Layer (type)                 Output Shape              Param #   \n",
            "=================================================================\n",
            "conv2d_1 (Conv2D)            (None, 148, 148, 32)      896       \n",
            "_________________________________________________________________\n",
            "activation_1 (Activation)    (None, 148, 148, 32)      0         \n",
            "_________________________________________________________________\n",
            "max_pooling2d_1 (MaxPooling2 (None, 74, 74, 32)        0         \n",
            "_________________________________________________________________\n",
            "dropout_1 (Dropout)          (None, 74, 74, 32)        0         \n",
            "_________________________________________________________________\n",
            "conv2d_2 (Conv2D)            (None, 72, 72, 32)        9248      \n",
            "_________________________________________________________________\n",
            "activation_2 (Activation)    (None, 72, 72, 32)        0         \n",
            "_________________________________________________________________\n",
            "max_pooling2d_2 (MaxPooling2 (None, 36, 36, 32)        0         \n",
            "_________________________________________________________________\n",
            "dropout_2 (Dropout)          (None, 36, 36, 32)        0         \n",
            "_________________________________________________________________\n",
            "conv2d_3 (Conv2D)            (None, 34, 34, 64)        18496     \n",
            "_________________________________________________________________\n",
            "activation_3 (Activation)    (None, 34, 34, 64)        0         \n",
            "_________________________________________________________________\n",
            "max_pooling2d_3 (MaxPooling2 (None, 17, 17, 64)        0         \n",
            "_________________________________________________________________\n",
            "dropout_3 (Dropout)          (None, 17, 17, 64)        0         \n",
            "_________________________________________________________________\n",
            "flatten_1 (Flatten)          (None, 18496)             0         \n",
            "_________________________________________________________________\n",
            "dense_1 (Dense)              (None, 64)                1183808   \n",
            "_________________________________________________________________\n",
            "activation_4 (Activation)    (None, 64)                0         \n",
            "_________________________________________________________________\n",
            "dropout_4 (Dropout)          (None, 64)                0         \n",
            "_________________________________________________________________\n",
            "dense_2 (Dense)              (None, 1)                 65        \n",
            "_________________________________________________________________\n",
            "dense_3 (Dense)              (None, 3)                 6         \n",
            "=================================================================\n",
            "Total params: 1,212,519\n",
            "Trainable params: 1,212,519\n",
            "Non-trainable params: 0\n",
            "_________________________________________________________________\n",
            "None\n"
          ],
          "name": "stdout"
        }
      ]
    },
    {
      "cell_type": "markdown",
      "metadata": {
        "id": "iXemuyppFdEH",
        "colab_type": "text"
      },
      "source": [
        "Training the Model"
      ]
    },
    {
      "cell_type": "code",
      "metadata": {
        "id": "b-DL45Djq3Lp",
        "colab_type": "code",
        "colab": {}
      },
      "source": [
        "nb_train_samples=1842\n",
        "nb_validation_samples=82\n",
        "batch_size=32\n",
        "epochs=10"
      ],
      "execution_count": 22,
      "outputs": []
    },
    {
      "cell_type": "code",
      "metadata": {
        "id": "7JRNNN0MXm5b",
        "colab_type": "code",
        "colab": {
          "base_uri": "https://localhost:8080/",
          "height": 745
        },
        "outputId": "187e5031-43f8-4d1b-ac5d-8986726ef7d7"
      },
      "source": [
        "from keras.callbacks import ModelCheckpoint, EarlyStopping\n",
        "checkpoint = ModelCheckpoint(\"Model.h5\", monitor='val_accuracy', verbose=1, save_best_only=True, save_weights_only=False, mode='auto', period=1)\n",
        "early = EarlyStopping(monitor='val_accuracy', min_delta=0, patience=5, verbose=1, mode='auto')\n",
        "\n",
        "\n",
        "history=model.fit_generator(\n",
        "   training_set,\n",
        "    steps_per_epoch=nb_train_samples//batch_size,\n",
        "    epochs=epochs,\n",
        "    validation_data=test_set,\n",
        "    validation_steps=nb_validation_samples//batch_size,\n",
        "    callbacks=[checkpoint,early])"
      ],
      "execution_count": 24,
      "outputs": [
        {
          "output_type": "stream",
          "text": [
            "Epoch 1/10\n",
            "57/57 [==============================] - 154s 3s/step - loss: 1.0957 - accuracy: 0.5064 - val_loss: 0.9012 - val_accuracy: 0.5833\n",
            "\n",
            "Epoch 00001: val_accuracy improved from -inf to 0.58333, saving model to Model.h5\n",
            "Epoch 2/10\n",
            "57/57 [==============================] - 55s 957ms/step - loss: 0.7739 - accuracy: 0.6431 - val_loss: 0.6065 - val_accuracy: 0.6667\n",
            "\n",
            "Epoch 00002: val_accuracy improved from 0.58333 to 0.66667, saving model to Model.h5\n",
            "Epoch 3/10\n",
            "57/57 [==============================] - 56s 983ms/step - loss: 0.6374 - accuracy: 0.7372 - val_loss: 0.5628 - val_accuracy: 0.8167\n",
            "\n",
            "Epoch 00003: val_accuracy improved from 0.66667 to 0.81667, saving model to Model.h5\n",
            "Epoch 4/10\n",
            "57/57 [==============================] - 56s 974ms/step - loss: 0.5760 - accuracy: 0.7803 - val_loss: 0.4400 - val_accuracy: 0.8333\n",
            "\n",
            "Epoch 00004: val_accuracy improved from 0.81667 to 0.83333, saving model to Model.h5\n",
            "Epoch 5/10\n",
            "57/57 [==============================] - 55s 971ms/step - loss: 0.5539 - accuracy: 0.7925 - val_loss: 0.6529 - val_accuracy: 0.8333\n",
            "\n",
            "Epoch 00005: val_accuracy did not improve from 0.83333\n",
            "Epoch 6/10\n",
            "57/57 [==============================] - 56s 980ms/step - loss: 0.5216 - accuracy: 0.7995 - val_loss: 0.3864 - val_accuracy: 0.8667\n",
            "\n",
            "Epoch 00006: val_accuracy improved from 0.83333 to 0.86667, saving model to Model.h5\n",
            "Epoch 7/10\n",
            "57/57 [==============================] - 56s 984ms/step - loss: 0.4918 - accuracy: 0.8217 - val_loss: 0.4549 - val_accuracy: 0.8333\n",
            "\n",
            "Epoch 00007: val_accuracy did not improve from 0.86667\n",
            "Epoch 8/10\n",
            "57/57 [==============================] - 55s 957ms/step - loss: 0.4437 - accuracy: 0.8545 - val_loss: 0.2455 - val_accuracy: 0.8167\n",
            "\n",
            "Epoch 00008: val_accuracy did not improve from 0.86667\n",
            "Epoch 9/10\n",
            "57/57 [==============================] - 56s 976ms/step - loss: 0.4426 - accuracy: 0.8537 - val_loss: 0.3775 - val_accuracy: 0.9000\n",
            "\n",
            "Epoch 00009: val_accuracy improved from 0.86667 to 0.90000, saving model to Model.h5\n",
            "Epoch 10/10\n",
            "57/57 [==============================] - 56s 988ms/step - loss: 0.4157 - accuracy: 0.8700 - val_loss: 0.6342 - val_accuracy: 0.8667\n",
            "\n",
            "Epoch 00010: val_accuracy did not improve from 0.90000\n"
          ],
          "name": "stdout"
        }
      ]
    },
    {
      "cell_type": "code",
      "metadata": {
        "id": "wqKmzYicXtEG",
        "colab_type": "code",
        "colab": {
          "base_uri": "https://localhost:8080/",
          "height": 573
        },
        "outputId": "83b4e655-3018-4bb4-bbf5-77f4212e9ed1"
      },
      "source": [
        "# Plot training & validation accuracy values\n",
        "import matplotlib.pyplot as plt\n",
        "%matplotlib inline\n",
        "plt.plot(history.history['accuracy'])\n",
        "plt.plot(history.history['val_accuracy'])\n",
        "plt.title('Model accuracy')\n",
        "plt.ylabel('Accuracy')\n",
        "plt.xlabel('Epoch')\n",
        "plt.legend(['Train', 'Val'], loc='upper left')\n",
        "plt.show()\n",
        "\n",
        "# Plot training & validation loss values\n",
        "plt.plot(history.history['loss'])\n",
        "plt.plot(history.history['val_loss'])\n",
        "plt.title('Model loss')\n",
        "plt.ylabel('Loss')\n",
        "plt.xlabel('Epoch')\n",
        "plt.legend(['Train', 'Val'], loc='upper left')\n",
        "plt.show()"
      ],
      "execution_count": 25,
      "outputs": [
        {
          "output_type": "display_data",
          "data": {
            "image/png": "[encoded data removed]",
            "text/plain": [
              "<Figure size 432x288 with 1 Axes>"
            ]
          },
          "metadata": {
            "tags": [],
            "needs_background": "light"
          }
        },
        {
          "output_type": "display_data",
          "data": {
            "image/png": "[encoded data removed]",
            "text/plain": [
              "<Figure size 432x288 with 1 Axes>"
            ]
          },
          "metadata": {
            "tags": [],
            "needs_background": "light"
          }
        }
      ]
    },
    {
      "cell_type": "code",
      "metadata": {
        "id": "m-0zESWtcC1K",
        "colab_type": "code",
        "colab": {}
      },
      "source": [
        ""
      ],
      "execution_count": null,
      "outputs": []
    }
  ]
}