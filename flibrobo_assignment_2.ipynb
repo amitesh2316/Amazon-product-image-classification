{
  "nbformat": 4,
  "nbformat_minor": 0,
  "metadata": {
    "colab": {
      "name": "flibrobo assignment 2",
      "provenance": []
    },
    "kernelspec": {
      "name": "python3",
      "display_name": "Python 3"
    }
  },
  "cells": [
    {
      "cell_type": "code",
      "metadata": {
        "id": "HFNx5Lpk4KPc",
        "colab_type": "code",
        "colab": {}
      },
      "source": [
        "import tensorflow as tf"
      ],
      "execution_count": 37,
      "outputs": []
    },
    {
      "cell_type": "code",
      "metadata": {
        "id": "8ILvaC9_4h35",
        "colab_type": "code",
        "colab": {}
      },
      "source": [
        "from tensorflow import keras\n",
        "from tensorflow.keras import layers"
      ],
      "execution_count": 38,
      "outputs": []
    },
    {
      "cell_type": "code",
      "metadata": {
        "id": "qtIbXFa4_eZB",
        "colab_type": "code",
        "colab": {}
      },
      "source": [
        "from keras.models import Sequential, load_model\n",
        "from keras.layers import Convolution2D\n",
        "from keras.layers import MaxPooling2D\n",
        "from keras.layers import Flatten\n",
        "from keras.layers import Dense, Dropout, Activation\n",
        "from keras.preprocessing.image import ImageDataGenerator"
      ],
      "execution_count": 39,
      "outputs": []
    },
    {
      "cell_type": "code",
      "metadata": {
        "id": "uaXqDn2kD5As",
        "colab_type": "code",
        "colab": {}
      },
      "source": [
        "# "
      ],
      "execution_count": 40,
      "outputs": []
    },
    {
      "cell_type": "markdown",
      "metadata": {
        "id": "BySJvRkZEUyY",
        "colab_type": "text"
      },
      "source": [
        "Adding Layers and intializing CNN"
      ]
    },
    {
      "cell_type": "code",
      "metadata": {
        "id": "-yoOsZQFBOKG",
        "colab_type": "code",
        "colab": {}
      },
      "source": [
        "model = Sequential()\n",
        "model.add(Convolution2D(32, (3, 3), input_shape = (64, 64, 3)))\n"
      ],
      "execution_count": 58,
      "outputs": []
    },
    {
      "cell_type": "code",
      "metadata": {
        "id": "GTUdtSLpCJwV",
        "colab_type": "code",
        "colab": {}
      },
      "source": [
        "model.add(Activation('relu'))"
      ],
      "execution_count": 59,
      "outputs": []
    },
    {
      "cell_type": "code",
      "metadata": {
        "id": "A8pdcZpbCRBo",
        "colab_type": "code",
        "colab": {}
      },
      "source": [
        "model.add(Convolution2D(32, (3, 3)))"
      ],
      "execution_count": 60,
      "outputs": []
    },
    {
      "cell_type": "code",
      "metadata": {
        "id": "4O0XreA5CW0_",
        "colab_type": "code",
        "colab": {}
      },
      "source": [
        "model.add(Activation('relu'))"
      ],
      "execution_count": 61,
      "outputs": []
    },
    {
      "cell_type": "code",
      "metadata": {
        "id": "pklpZS76CYlL",
        "colab_type": "code",
        "colab": {}
      },
      "source": [
        "model.add(MaxPooling2D(pool_size=(2,2)))"
      ],
      "execution_count": 62,
      "outputs": []
    },
    {
      "cell_type": "code",
      "metadata": {
        "id": "QbJhb7b6CguS",
        "colab_type": "code",
        "colab": {}
      },
      "source": [
        ""
      ],
      "execution_count": 62,
      "outputs": []
    },
    {
      "cell_type": "code",
      "metadata": {
        "id": "CsEWJtD-CpPL",
        "colab_type": "code",
        "colab": {}
      },
      "source": [
        "model.add(Flatten())"
      ],
      "execution_count": 63,
      "outputs": []
    },
    {
      "cell_type": "code",
      "metadata": {
        "id": "FAlLtcc9Ct8r",
        "colab_type": "code",
        "colab": {}
      },
      "source": [
        "model.add(Dense(units=128,activation='relu'))"
      ],
      "execution_count": 65,
      "outputs": []
    },
    {
      "cell_type": "code",
      "metadata": {
        "id": "j2v35-L1CxwK",
        "colab_type": "code",
        "colab": {}
      },
      "source": [
        "model.add(Dense(units=1,activation='sigmoid'))"
      ],
      "execution_count": 66,
      "outputs": []
    },
    {
      "cell_type": "code",
      "metadata": {
        "id": "7Z2mS3nZC1Og",
        "colab_type": "code",
        "colab": {}
      },
      "source": [
        ""
      ],
      "execution_count": 50,
      "outputs": []
    },
    {
      "cell_type": "markdown",
      "metadata": {
        "id": "ilCphWF7EPDZ",
        "colab_type": "text"
      },
      "source": [
        "Fitting the CNN to the images and Data Augmentation\n"
      ]
    },
    {
      "cell_type": "code",
      "metadata": {
        "id": "1TlfLcIXC85V",
        "colab_type": "code",
        "colab": {}
      },
      "source": [
        "train_datagen = ImageDataGenerator(rescale=1./255, shear_range=0.2, zoom_range=0.2, horizontal_flip=True)"
      ],
      "execution_count": 16,
      "outputs": []
    },
    {
      "cell_type": "code",
      "metadata": {
        "id": "IHzVn1EyDEa0",
        "colab_type": "code",
        "colab": {}
      },
      "source": [
        "test_datagen = ImageDataGenerator(rescale=1./255)"
      ],
      "execution_count": 17,
      "outputs": []
    },
    {
      "cell_type": "code",
      "metadata": {
        "id": "jqAu5i1pDGSX",
        "colab_type": "code",
        "colab": {
          "base_uri": "https://localhost:8080/",
          "height": 34
        },
        "outputId": "6a1b085e-3494-4934-c0eb-4f98767bf2dc"
      },
      "source": [
        "training_set = train_datagen.flow_from_directory('/content/drive/My Drive/Amazon_webscraping/Train',target_size=(64,64),batch_size=32,class_mode='binary')"
      ],
      "execution_count": 18,
      "outputs": [
        {
          "output_type": "stream",
          "text": [
            "Found 270 images belonging to 3 classes.\n"
          ],
          "name": "stdout"
        }
      ]
    },
    {
      "cell_type": "code",
      "metadata": {
        "id": "3mv24HijDUmr",
        "colab_type": "code",
        "colab": {
          "base_uri": "https://localhost:8080/",
          "height": 34
        },
        "outputId": "921fe557-3dde-48d6-e0f0-9177123b94ed"
      },
      "source": [
        "test_set = train_datagen.flow_from_directory('/content/drive/My Drive/Amazon_webscraping/Test',target_size=(64,64),batch_size=32,class_mode='binary')"
      ],
      "execution_count": 19,
      "outputs": [
        {
          "output_type": "stream",
          "text": [
            "Found 60 images belonging to 3 classes.\n"
          ],
          "name": "stdout"
        }
      ]
    },
    {
      "cell_type": "markdown",
      "metadata": {
        "id": "AsO86J4cEY1l",
        "colab_type": "text"
      },
      "source": [
        "intiating optimizer and configure parameters"
      ]
    },
    {
      "cell_type": "code",
      "metadata": {
        "id": "fkbjs3YMDmuP",
        "colab_type": "code",
        "colab": {}
      },
      "source": [
        "opt = keras.optimizers.RMSprop(learning_rate=0.0001, decay=1e-6)"
      ],
      "execution_count": 51,
      "outputs": []
    },
    {
      "cell_type": "markdown",
      "metadata": {
        "id": "-8Thm-KeE6WM",
        "colab_type": "text"
      },
      "source": [
        "Compile the model"
      ]
    },
    {
      "cell_type": "code",
      "metadata": {
        "id": "Tq9wm7oHE_7D",
        "colab_type": "code",
        "colab": {}
      },
      "source": [
        "model.compile(loss='binary_crossentropy', optimizer=opt, metrics=['accuracy'])"
      ],
      "execution_count": 70,
      "outputs": []
    },
    {
      "cell_type": "code",
      "metadata": {
        "id": "5UoXLdPUFLv6",
        "colab_type": "code",
        "colab": {
          "base_uri": "https://localhost:8080/",
          "height": 442
        },
        "outputId": "c0995fc3-26e5-4d80-a3da-e197d096b51f"
      },
      "source": [
        "print(model.summary())"
      ],
      "execution_count": 71,
      "outputs": [
        {
          "output_type": "stream",
          "text": [
            "Model: \"sequential_3\"\n",
            "_________________________________________________________________\n",
            "Layer (type)                 Output Shape              Param #   \n",
            "=================================================================\n",
            "conv2d_8 (Conv2D)            (None, 62, 62, 32)        896       \n",
            "_________________________________________________________________\n",
            "activation_10 (Activation)   (None, 62, 62, 32)        0         \n",
            "_________________________________________________________________\n",
            "conv2d_9 (Conv2D)            (None, 60, 60, 32)        9248      \n",
            "_________________________________________________________________\n",
            "activation_11 (Activation)   (None, 60, 60, 32)        0         \n",
            "_________________________________________________________________\n",
            "max_pooling2d_4 (MaxPooling2 (None, 30, 30, 32)        0         \n",
            "_________________________________________________________________\n",
            "flatten_3 (Flatten)          (None, 28800)             0         \n",
            "_________________________________________________________________\n",
            "dense_3 (Dense)              (None, 128)               3686528   \n",
            "_________________________________________________________________\n",
            "dense_4 (Dense)              (None, 1)                 129       \n",
            "=================================================================\n",
            "Total params: 3,696,801\n",
            "Trainable params: 3,696,801\n",
            "Non-trainable params: 0\n",
            "_________________________________________________________________\n",
            "None\n"
          ],
          "name": "stdout"
        }
      ]
    },
    {
      "cell_type": "markdown",
      "metadata": {
        "id": "iXemuyppFdEH",
        "colab_type": "text"
      },
      "source": [
        "Training the Model"
      ]
    },
    {
      "cell_type": "code",
      "metadata": {
        "id": "VkE2QHveFsl0",
        "colab_type": "code",
        "colab": {
          "base_uri": "https://localhost:8080/",
          "height": 139
        },
        "outputId": "2693e2b4-ba8b-4d81-b98a-c3094194905a"
      },
      "source": [
        "history = model.fit(training_set, steps_per_epoch=4000, epochs = 3, validation_data=test_set,shuffle=True)"
      ],
      "execution_count": 75,
      "outputs": [
        {
          "output_type": "stream",
          "text": [
            "Epoch 1/3\n",
            "4000/4000 [==============================] - 1326s 331ms/step - loss: -1483159086.3005 - accuracy: 0.3366 - val_loss: -3547456256.0000 - val_accuracy: 0.2833\n",
            "Epoch 2/3\n",
            "4000/4000 [==============================] - 1327s 332ms/step - loss: -3543609222.3975 - accuracy: 0.3370 - val_loss: -7865758208.0000 - val_accuracy: 0.3667\n",
            "Epoch 3/3\n",
            "4000/4000 [==============================] - 1325s 331ms/step - loss: -7200479496.3481 - accuracy: 0.3373 - val_loss: -14238103552.0000 - val_accuracy: 0.3333\n"
          ],
          "name": "stdout"
        }
      ]
    },
    {
      "cell_type": "code",
      "metadata": {
        "id": "HCxqpWsVGa1G",
        "colab_type": "code",
        "colab": {
          "base_uri": "https://localhost:8080/",
          "height": 71
        },
        "outputId": "1acbf0c4-0e3e-44ab-af8e-19610158b67a"
      },
      "source": [
        "model.save(\"amazon_product_classification\")"
      ],
      "execution_count": 76,
      "outputs": [
        {
          "output_type": "stream",
          "text": [
            "/usr/local/lib/python3.6/dist-packages/keras/engine/saving.py:165: UserWarning: TensorFlow optimizers do not make it possible to access optimizer attributes or optimizer state after instantiation. As a result, we cannot save the optimizer as part of the model save file.You will have to compile your model again after loading it. Prefer using a Keras optimizer instead (see keras.io/optimizers).\n",
            "  'TensorFlow optimizers do not '\n"
          ],
          "name": "stderr"
        }
      ]
    },
    {
      "cell_type": "code",
      "metadata": {
        "id": "FkFM4FKUqXoV",
        "colab_type": "code",
        "colab": {
          "base_uri": "https://localhost:8080/",
          "height": 241
        },
        "outputId": "8b8e590c-8856-401f-b231-9aa6a425fd2a"
      },
      "source": [
        "history = model.fit(training_set, steps_per_epoch=4000, epochs = 6, validation_data=test_set,shuffle=True)"
      ],
      "execution_count": 82,
      "outputs": [
        {
          "output_type": "stream",
          "text": [
            "Epoch 1/6\n",
            "4000/4000 [==============================] - 1311s 328ms/step - loss: -13114300564.7967 - accuracy: 0.3368 - val_loss: -16516579328.0000 - val_accuracy: 0.3167\n",
            "Epoch 2/6\n",
            "4000/4000 [==============================] - 1302s 326ms/step - loss: -22152704056.1164 - accuracy: 0.3365 - val_loss: -35226865664.0000 - val_accuracy: 0.3000\n",
            "Epoch 3/6\n",
            "4000/4000 [==============================] - 1305s 326ms/step - loss: -35139244208.5337 - accuracy: 0.3373 - val_loss: -31105581056.0000 - val_accuracy: 0.3000\n",
            "Epoch 4/6\n",
            "4000/4000 [==============================] - 1308s 327ms/step - loss: -52863853881.6887 - accuracy: 0.3369 - val_loss: -67353731072.0000 - val_accuracy: 0.2833\n",
            "Epoch 5/6\n",
            "4000/4000 [==============================] - 1305s 326ms/step - loss: -76590676564.5062 - accuracy: 0.3361 - val_loss: -62285574144.0000 - val_accuracy: 0.3500\n",
            "Epoch 6/6\n",
            "4000/4000 [==============================] - 1299s 325ms/step - loss: -107470072155.8990 - accuracy: 0.3367 - val_loss: -107994816512.0000 - val_accuracy: 0.3000\n"
          ],
          "name": "stdout"
        }
      ]
    },
    {
      "cell_type": "code",
      "metadata": {
        "id": "b-DL45Djq3Lp",
        "colab_type": "code",
        "colab": {}
      },
      "source": [
        ""
      ],
      "execution_count": null,
      "outputs": []
    }
  ]
}