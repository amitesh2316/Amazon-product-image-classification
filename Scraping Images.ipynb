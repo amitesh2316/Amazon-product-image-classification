{
 "cells": [
  {
   "cell_type": "code",
   "execution_count": 5,
   "metadata": {},
   "outputs": [],
   "source": []
  },
  {
   "cell_type": "code",
   "execution_count": 2,
   "metadata": {},
   "outputs": [],
   "source": [
    "import selenium\n"
   ]
  },
  {
   "cell_type": "code",
   "execution_count": 41,
   "metadata": {},
   "outputs": [],
   "source": [
    "from selenium import webdriver\n"
   ]
  },
  {
   "cell_type": "code",
   "execution_count": null,
   "metadata": {},
   "outputs": [],
   "source": []
  },
  {
   "cell_type": "code",
   "execution_count": 77,
   "metadata": {},
   "outputs": [],
   "source": [
    "webo = webdriver.Chrome(\"chromedriver.exe\")"
   ]
  },
  {
   "cell_type": "code",
   "execution_count": 78,
   "metadata": {},
   "outputs": [],
   "source": [
    "current_page_url = webo.get('https://www.amazon.in/s?k=sarees+for+women&s=price-desc-rank&crid=257KUWSE6R7I&qid=1593645478&sprefix=sarees%2Caps%2C1627&ref=sr_st_price-desc-rank')"
   ]
  },
  {
   "cell_type": "code",
   "execution_count": 79,
   "metadata": {},
   "outputs": [],
   "source": [
    "def make_directory(dirname):\n",
    "    current_path = os.getcwd()\n",
    "    path = os.path.join(current_path, dirname)\n",
    "    if not os.path.exists(path):\n",
    "        os.makedirs(path)"
   ]
  },
  {
   "cell_type": "code",
   "execution_count": null,
   "metadata": {},
   "outputs": [],
   "source": [
    "#women Sarees"
   ]
  },
  {
   "cell_type": "code",
   "execution_count": 80,
   "metadata": {},
   "outputs": [],
   "source": [
    "DIRNAME=\"Women_Sarees\"\n",
    "make_directory(dirname = \"DIRNAME\")"
   ]
  },
  {
   "cell_type": "code",
   "execution_count": 109,
   "metadata": {},
   "outputs": [
    {
     "name": "stdout",
     "output_type": "stream",
     "text": [
      "https://m.media-amazon.com/images/I/71IFC0dmSUL._AC_UL320_.jpg\n",
      "https://m.media-amazon.com/images/I/71IMYEJHAdL._AC_UL320_.jpg\n",
      "https://m.media-amazon.com/images/I/51CpHSYNGfL._AC_UL320_.jpg\n",
      "https://m.media-amazon.com/images/I/81-Dh08yoQL._AC_UL320_.jpg\n",
      "https://m.media-amazon.com/images/I/71KFEHwVOEL._AC_UL320_.jpg\n",
      "https://m.media-amazon.com/images/I/71VimELvpsL._AC_UL320_.jpg\n",
      "https://m.media-amazon.com/images/I/61a77mxMRUL._AC_UL320_.jpg\n",
      "https://m.media-amazon.com/images/I/51PSuQXc0aL._AC_UL320_.jpg\n",
      "https://m.media-amazon.com/images/I/61qJdpFU1WL._AC_UL320_.jpg\n",
      "https://m.media-amazon.com/images/I/81n+KG1yHtL._AC_UL320_.jpg\n",
      "https://m.media-amazon.com/images/I/81+RkRQGATL._AC_UL320_.jpg\n",
      "https://m.media-amazon.com/images/I/81JciJQxqRL._AC_UL320_.jpg\n",
      "https://m.media-amazon.com/images/I/81jT4PO02BL._AC_UL320_.jpg\n",
      "https://m.media-amazon.com/images/I/612-26BZE6L._AC_UL320_.jpg\n",
      "https://m.media-amazon.com/images/I/61EmvoC2NVL._AC_UL320_.jpg\n",
      "https://m.media-amazon.com/images/I/61bHLYbSM6L._AC_UL320_.jpg\n",
      "https://m.media-amazon.com/images/I/61AvgUo9dDL._AC_UL320_.jpg\n",
      "https://m.media-amazon.com/images/I/61TaZU6LdsL._AC_UL320_.jpg\n",
      "https://m.media-amazon.com/images/I/61vQvOmmoBL._AC_UL320_.jpg\n",
      "https://m.media-amazon.com/images/I/71kBY8ujWsL._AC_UL320_.jpg\n",
      "https://m.media-amazon.com/images/I/61mgg88WDxL._AC_UL320_.jpg\n",
      "https://m.media-amazon.com/images/I/61FJpX-vDiL._AC_UL320_.jpg\n",
      "https://m.media-amazon.com/images/I/91DcJ+68bdL._AC_UL320_.jpg\n",
      "https://m.media-amazon.com/images/I/91iYvtlmPdL._AC_UL320_.jpg\n",
      "https://m.media-amazon.com/images/I/61kGltT3bHL._AC_UL320_.jpg\n",
      "https://m.media-amazon.com/images/I/61I5h75d+cL._AC_UL320_.jpg\n",
      "https://m.media-amazon.com/images/I/61NhJImdkwL._AC_UL320_.jpg\n",
      "https://m.media-amazon.com/images/I/61X2DLzmSTL._AC_UL320_.jpg\n",
      "https://m.media-amazon.com/images/I/612+0xXglyL._AC_UL320_.jpg\n",
      "https://m.media-amazon.com/images/I/61MaGU4vhaL._AC_UL320_.jpg\n",
      "https://m.media-amazon.com/images/I/71o9Pp8kwcL._AC_UL320_.jpg\n",
      "https://m.media-amazon.com/images/I/81fpdUcqs-L._AC_UL320_.jpg\n",
      "https://m.media-amazon.com/images/I/51XzVekdyEL._AC_UL320_.jpg\n",
      "https://m.media-amazon.com/images/I/61UfAhVKBCL._AC_UL320_.jpg\n",
      "https://m.media-amazon.com/images/I/61pN-UP01DL._AC_UL320_.jpg\n",
      "https://m.media-amazon.com/images/I/91tKb-fi3uL._AC_UL320_.jpg\n",
      "https://m.media-amazon.com/images/I/61fLDsErvVL._AC_UL320_.jpg\n",
      "https://m.media-amazon.com/images/I/71NsQaSsaWL._AC_UL320_.jpg\n",
      "https://m.media-amazon.com/images/I/61jxtuaF1sL._AC_UL320_.jpg\n",
      "https://m.media-amazon.com/images/I/61mHqtzayVL._AC_UL320_.jpg\n",
      "https://m.media-amazon.com/images/I/61TA1LxrAQL._AC_UL320_.jpg\n",
      "https://m.media-amazon.com/images/I/61fzKSjWyoL._AC_UL320_.jpg\n",
      "https://m.media-amazon.com/images/I/61ErQAnOgrL._AC_UL320_.jpg\n",
      "https://m.media-amazon.com/images/I/61bcTaMAYEL._AC_UL320_.jpg\n",
      "https://m.media-amazon.com/images/I/71ms2Px6bYL._AC_UL320_.jpg\n",
      "https://m.media-amazon.com/images/I/71f0JWTXppL._AC_UL320_.jpg\n",
      "https://m.media-amazon.com/images/I/81MsLH0gQUL._AC_UL320_.jpg\n",
      "https://m.media-amazon.com/images/I/71Zr0fPinRL._AC_UL320_.jpg\n",
      "https://m.media-amazon.com/images/I/71y9lKEDuqL._AC_UL320_.jpg\n",
      "https://m.media-amazon.com/images/I/719soVQR3kL._AC_UL320_.jpg\n",
      "https://m.media-amazon.com/images/I/61IKsSIDDuL._AC_UL320_.jpg\n",
      "https://m.media-amazon.com/images/I/61jwcwWEeyL._AC_UL320_.jpg\n",
      "https://m.media-amazon.com/images/I/61Y-DMGPhRL._AC_UL320_.jpg\n",
      "https://m.media-amazon.com/images/I/61ebBFR65-L._AC_UL320_.jpg\n",
      "https://m.media-amazon.com/images/I/610nALTOD6L._AC_UL320_.jpg\n",
      "https://m.media-amazon.com/images/I/71BT70pIkjL._AC_UL320_.jpg\n",
      "https://m.media-amazon.com/images/I/41HKsKatAKL._AC_UL320_.jpg\n",
      "https://m.media-amazon.com/images/I/31OQYWiTuSL._AC_UL320_.jpg\n",
      "https://m.media-amazon.com/images/I/71GbwXTk1eL._AC_UL320_.jpg\n",
      "https://m.media-amazon.com/images/I/71kDnS0QzaL._AC_UL320_.jpg\n"
     ]
    }
   ],
   "source": [
    "\n",
    "    images = webo.find_elements_by_xpath(\"//div[@class='a-section aok-relative s-image-tall-aspect']//img\")\n",
    "    \n",
    "    urls = []\n",
    "    for image in images:\n",
    "        source=image.get_attribute('src')\n",
    "        urls.append(source)\n",
    "        \n",
    "        print(source)"
   ]
  },
  {
   "cell_type": "code",
   "execution_count": 110,
   "metadata": {},
   "outputs": [
    {
     "data": {
      "text/plain": [
       "60"
      ]
     },
     "execution_count": 110,
     "metadata": {},
     "output_type": "execute_result"
    }
   ],
   "source": [
    "len(urls)"
   ]
  },
  {
   "cell_type": "code",
   "execution_count": 111,
   "metadata": {},
   "outputs": [
    {
     "data": {
      "text/plain": [
       "'https://m.media-amazon.com/images/I/71VimELvpsL._AC_UL320_.jpg'"
      ]
     },
     "execution_count": 111,
     "metadata": {},
     "output_type": "execute_result"
    }
   ],
   "source": [
    "urls[5]"
   ]
  },
  {
   "cell_type": "code",
   "execution_count": 112,
   "metadata": {},
   "outputs": [
    {
     "data": {
      "text/plain": [
       "'https://m.media-amazon.com/images/I/71IMYEJHAdL._AC_UL320_.jpg'"
      ]
     },
     "execution_count": 112,
     "metadata": {},
     "output_type": "execute_result"
    }
   ],
   "source": [
    "urls[1]"
   ]
  },
  {
   "cell_type": "code",
   "execution_count": null,
   "metadata": {},
   "outputs": [],
   "source": []
  },
  {
   "cell_type": "code",
   "execution_count": null,
   "metadata": {},
   "outputs": [],
   "source": []
  },
  {
   "cell_type": "code",
   "execution_count": 113,
   "metadata": {},
   "outputs": [],
   "source": [
    "import shutil\n",
    "import os\n",
    "import requests\n"
   ]
  },
  {
   "cell_type": "code",
   "execution_count": null,
   "metadata": {},
   "outputs": [],
   "source": []
  },
  {
   "cell_type": "code",
   "execution_count": 117,
   "metadata": {},
   "outputs": [
    {
     "name": "stdout",
     "output_type": "stream",
     "text": [
      "Downloading 1 of 60 images\n",
      "Downloading 2 of 60 images\n",
      "Downloading 3 of 60 images\n",
      "Downloading 4 of 60 images\n",
      "Downloading 5 of 60 images\n",
      "Downloading 6 of 60 images\n",
      "Downloading 7 of 60 images\n",
      "Downloading 8 of 60 images\n",
      "Downloading 9 of 60 images\n",
      "Downloading 10 of 60 images\n",
      "Downloading 11 of 60 images\n",
      "Downloading 12 of 60 images\n",
      "Downloading 13 of 60 images\n",
      "Downloading 14 of 60 images\n",
      "Downloading 15 of 60 images\n",
      "Downloading 16 of 60 images\n",
      "Downloading 17 of 60 images\n",
      "Downloading 18 of 60 images\n",
      "Downloading 19 of 60 images\n",
      "Downloading 20 of 60 images\n",
      "Downloading 21 of 60 images\n",
      "Downloading 22 of 60 images\n",
      "Downloading 23 of 60 images\n",
      "Downloading 24 of 60 images\n",
      "Downloading 25 of 60 images\n",
      "Downloading 26 of 60 images\n",
      "Downloading 27 of 60 images\n",
      "Downloading 28 of 60 images\n",
      "Downloading 29 of 60 images\n",
      "Downloading 30 of 60 images\n",
      "Downloading 31 of 60 images\n",
      "Downloading 32 of 60 images\n",
      "Downloading 33 of 60 images\n",
      "Downloading 34 of 60 images\n",
      "Downloading 35 of 60 images\n",
      "Downloading 36 of 60 images\n",
      "Downloading 37 of 60 images\n",
      "Downloading 38 of 60 images\n",
      "Downloading 39 of 60 images\n",
      "Downloading 40 of 60 images\n",
      "Downloading 41 of 60 images\n",
      "Downloading 42 of 60 images\n",
      "Downloading 43 of 60 images\n",
      "Downloading 44 of 60 images\n",
      "Downloading 45 of 60 images\n",
      "Downloading 46 of 60 images\n",
      "Downloading 47 of 60 images\n",
      "Downloading 48 of 60 images\n",
      "Downloading 49 of 60 images\n",
      "Downloading 50 of 60 images\n",
      "Downloading 51 of 60 images\n",
      "Downloading 52 of 60 images\n",
      "Downloading 53 of 60 images\n",
      "Downloading 54 of 60 images\n",
      "Downloading 55 of 60 images\n",
      "Downloading 56 of 60 images\n",
      "Downloading 57 of 60 images\n",
      "Downloading 58 of 60 images\n",
      "Downloading 59 of 60 images\n",
      "Downloading 60 of 60 images\n"
     ]
    }
   ],
   "source": [
    "    for index,link in enumerate(urls):\n",
    "        print(\"Downloading {0} of {1} images\".format(index+1, len(urls)))\n",
    "        response = requests.get(link)\n",
    "        with open('image-{}.jpg'.format(index+52),\"wb\") as file:\n",
    "            file.write(response.content)"
   ]
  },
  {
   "cell_type": "code",
   "execution_count": null,
   "metadata": {},
   "outputs": [],
   "source": []
  },
  {
   "cell_type": "code",
   "execution_count": null,
   "metadata": {},
   "outputs": [],
   "source": []
  },
  {
   "cell_type": "code",
   "execution_count": null,
   "metadata": {},
   "outputs": [],
   "source": []
  },
  {
   "cell_type": "code",
   "execution_count": null,
   "metadata": {},
   "outputs": [],
   "source": []
  },
  {
   "cell_type": "code",
   "execution_count": 103,
   "metadata": {},
   "outputs": [],
   "source": [
    "PAGE2_url = webo.get(\"https://www.amazon.in/s?k=sarees+for+women&s=price-desc-rank&page=2&crid=257KUWSE6R7I&qid=1593907449&sprefix=sarees%2Caps%2C1627&ref=sr_pg_2\")"
   ]
  },
  {
   "cell_type": "code",
   "execution_count": null,
   "metadata": {},
   "outputs": [],
   "source": [
    "#MEN TROUSERS"
   ]
  },
  {
   "cell_type": "code",
   "execution_count": null,
   "metadata": {},
   "outputs": [],
   "source": []
  },
  {
   "cell_type": "code",
   "execution_count": 118,
   "metadata": {},
   "outputs": [],
   "source": [
    "Dirname1 = \"Men_Trousers\"\n",
    "make_directory(Dirname1)"
   ]
  },
  {
   "cell_type": "code",
   "execution_count": 133,
   "metadata": {},
   "outputs": [],
   "source": [
    "Url3 = webo.get(\"https://www.amazon.in/s?k=men+trousers&crid=16IPSRSTFDEOJ&sprefix=Men+trouser%2Caps%2C347&ref=nb_sb_ss_i_1_11\")"
   ]
  },
  {
   "cell_type": "code",
   "execution_count": 138,
   "metadata": {},
   "outputs": [
    {
     "name": "stdout",
     "output_type": "stream",
     "text": [
      "https://m.media-amazon.com/images/I/81Lg1x1O29L._AC_UL320_.jpg\n",
      "https://m.media-amazon.com/images/I/81aLEvSqU+L._AC_UL320_.jpg\n",
      "https://m.media-amazon.com/images/I/81bNbBMNxXL._AC_UL320_.jpg\n",
      "https://m.media-amazon.com/images/I/61tOFC62n-L._AC_UL320_.jpg\n",
      "https://m.media-amazon.com/images/I/71Z6JX+W6oL._AC_UL320_.jpg\n",
      "https://m.media-amazon.com/images/I/51bVNPR9P5L._AC_UL320_.jpg\n",
      "https://m.media-amazon.com/images/I/81zJ1ThxSGL._AC_UL320_.jpg\n",
      "https://m.media-amazon.com/images/I/71IYDkH-l+L._AC_UL320_.jpg\n",
      "https://m.media-amazon.com/images/I/71BLrWhndjL._AC_UL320_.jpg\n",
      "https://m.media-amazon.com/images/I/71sDa2EZ5pL._AC_UL320_.jpg\n",
      "https://m.media-amazon.com/images/I/81WvnWD4zNL._AC_UL320_.jpg\n",
      "https://m.media-amazon.com/images/I/81yEueJAIfL._AC_UL320_.jpg\n",
      "https://m.media-amazon.com/images/I/712xD3SHWaL._AC_UL320_.jpg\n",
      "https://m.media-amazon.com/images/I/81xIAEpRZDL._AC_UL320_.jpg\n",
      "https://m.media-amazon.com/images/I/61PbPwQ9L5L._AC_UL320_.jpg\n",
      "https://m.media-amazon.com/images/I/61jbyGIT4CL._AC_UL320_.jpg\n",
      "https://m.media-amazon.com/images/I/81YA8MGBfPL._AC_UL320_.jpg\n",
      "https://m.media-amazon.com/images/I/71TdmSGKkQL._AC_UL320_.jpg\n",
      "https://m.media-amazon.com/images/I/71+G0cuRNvL._AC_UL320_.jpg\n",
      "https://m.media-amazon.com/images/I/710zRnED74L._AC_UL320_.jpg\n",
      "https://m.media-amazon.com/images/I/81-9O33VgBL._AC_UL320_.jpg\n",
      "https://m.media-amazon.com/images/I/71tpOPuowhL._AC_UL320_.jpg\n",
      "https://m.media-amazon.com/images/I/71yXjuYYh6L._AC_UL320_.jpg\n",
      "https://m.media-amazon.com/images/I/81i7J0C9jsL._AC_UL320_.jpg\n",
      "https://m.media-amazon.com/images/I/81F51XDmA5L._AC_UL320_.jpg\n",
      "https://m.media-amazon.com/images/I/814C1HpkW1L._AC_UL320_.jpg\n",
      "https://m.media-amazon.com/images/I/61NKxXc+lIL._AC_UL320_.jpg\n",
      "https://m.media-amazon.com/images/I/71LTnMY59XL._AC_UL320_.jpg\n",
      "https://m.media-amazon.com/images/I/712Rgrbu1gL._AC_UL320_.jpg\n",
      "https://m.media-amazon.com/images/I/81tqvfR+TWL._AC_UL320_.jpg\n",
      "https://m.media-amazon.com/images/I/817FuD7YLCL._AC_UL320_.jpg\n",
      "https://m.media-amazon.com/images/I/71KQr6a0wbL._AC_UL320_.jpg\n",
      "https://m.media-amazon.com/images/I/81sZ6XebDkL._AC_UL320_.jpg\n",
      "https://m.media-amazon.com/images/I/71E+Yi2NeaL._AC_UL320_.jpg\n",
      "https://m.media-amazon.com/images/I/91tz3nQHs5L._AC_UL320_.jpg\n",
      "https://m.media-amazon.com/images/I/610JEqQmS6L._AC_UL320_.jpg\n",
      "https://m.media-amazon.com/images/I/71Y1LEm7UhL._AC_UL320_.jpg\n",
      "https://m.media-amazon.com/images/I/71f2ajjLiFL._AC_UL320_.jpg\n",
      "https://m.media-amazon.com/images/I/715HgKHPTZL._AC_UL320_.jpg\n",
      "https://m.media-amazon.com/images/I/81Ezp7gB3qL._AC_UL320_.jpg\n",
      "https://m.media-amazon.com/images/I/61HkF7BZx-L._AC_UL320_.jpg\n",
      "https://m.media-amazon.com/images/I/81ZpvFewoOL._AC_UL320_.jpg\n",
      "https://m.media-amazon.com/images/I/71OfJmRWIaL._AC_UL320_.jpg\n",
      "https://m.media-amazon.com/images/I/71n4wmzIzrL._AC_UL320_.jpg\n",
      "https://m.media-amazon.com/images/I/81+EGoDmNUL._AC_UL320_.jpg\n",
      "https://m.media-amazon.com/images/I/81uqaOpnGbL._AC_UL320_.jpg\n",
      "https://m.media-amazon.com/images/I/71-Hn+nXTgL._AC_UL320_.jpg\n",
      "https://m.media-amazon.com/images/I/61pBxGzQHdL._AC_UL320_.jpg\n",
      "https://m.media-amazon.com/images/I/81gEOho7FDL._AC_UL320_.jpg\n",
      "https://m.media-amazon.com/images/I/61B28qEAQoL._AC_UL320_.jpg\n",
      "https://m.media-amazon.com/images/I/711GNigRMaL._AC_UL320_.jpg\n",
      "https://m.media-amazon.com/images/I/81k8bNzLD7L._AC_UL320_.jpg\n",
      "https://m.media-amazon.com/images/I/81bV4uHPlqL._AC_UL320_.jpg\n",
      "https://m.media-amazon.com/images/I/710zUpuNhWL._AC_UL320_.jpg\n",
      "https://m.media-amazon.com/images/I/81b4otGKmpL._AC_UL320_.jpg\n",
      "https://m.media-amazon.com/images/I/8152rihgaFL._AC_UL320_.jpg\n",
      "https://m.media-amazon.com/images/I/618VPj+q2CL._AC_UL320_.jpg\n",
      "https://m.media-amazon.com/images/I/71T4Qd3NdTL._AC_UL320_.jpg\n",
      "https://m.media-amazon.com/images/I/81z3oEV52+L._AC_UL320_.jpg\n",
      "https://m.media-amazon.com/images/I/81zKLsk9+sL._AC_UL320_.jpg\n"
     ]
    }
   ],
   "source": [
    "\n",
    "    images = webo.find_elements_by_xpath(\"//div[@class='a-section aok-relative s-image-tall-aspect']//img\")\n",
    "    \n",
    "    urls = []\n",
    "    for image in images:\n",
    "        source=image.get_attribute('src')\n",
    "        urls.append(source)\n",
    "        \n",
    "        print(source)"
   ]
  },
  {
   "cell_type": "code",
   "execution_count": 139,
   "metadata": {},
   "outputs": [
    {
     "data": {
      "text/plain": [
       "60"
      ]
     },
     "execution_count": 139,
     "metadata": {},
     "output_type": "execute_result"
    }
   ],
   "source": [
    "len(urls)"
   ]
  },
  {
   "cell_type": "code",
   "execution_count": 140,
   "metadata": {},
   "outputs": [
    {
     "name": "stdout",
     "output_type": "stream",
     "text": [
      "Downloading 1 of 60 images\n",
      "Downloading 2 of 60 images\n",
      "Downloading 3 of 60 images\n",
      "Downloading 4 of 60 images\n",
      "Downloading 5 of 60 images\n",
      "Downloading 6 of 60 images\n",
      "Downloading 7 of 60 images\n",
      "Downloading 8 of 60 images\n",
      "Downloading 9 of 60 images\n",
      "Downloading 10 of 60 images\n",
      "Downloading 11 of 60 images\n",
      "Downloading 12 of 60 images\n",
      "Downloading 13 of 60 images\n",
      "Downloading 14 of 60 images\n",
      "Downloading 15 of 60 images\n",
      "Downloading 16 of 60 images\n",
      "Downloading 17 of 60 images\n",
      "Downloading 18 of 60 images\n",
      "Downloading 19 of 60 images\n",
      "Downloading 20 of 60 images\n",
      "Downloading 21 of 60 images\n",
      "Downloading 22 of 60 images\n",
      "Downloading 23 of 60 images\n",
      "Downloading 24 of 60 images\n",
      "Downloading 25 of 60 images\n",
      "Downloading 26 of 60 images\n",
      "Downloading 27 of 60 images\n",
      "Downloading 28 of 60 images\n",
      "Downloading 29 of 60 images\n",
      "Downloading 30 of 60 images\n",
      "Downloading 31 of 60 images\n",
      "Downloading 32 of 60 images\n",
      "Downloading 33 of 60 images\n",
      "Downloading 34 of 60 images\n",
      "Downloading 35 of 60 images\n",
      "Downloading 36 of 60 images\n",
      "Downloading 37 of 60 images\n",
      "Downloading 38 of 60 images\n",
      "Downloading 39 of 60 images\n",
      "Downloading 40 of 60 images\n",
      "Downloading 41 of 60 images\n",
      "Downloading 42 of 60 images\n",
      "Downloading 43 of 60 images\n",
      "Downloading 44 of 60 images\n",
      "Downloading 45 of 60 images\n",
      "Downloading 46 of 60 images\n",
      "Downloading 47 of 60 images\n",
      "Downloading 48 of 60 images\n",
      "Downloading 49 of 60 images\n",
      "Downloading 50 of 60 images\n",
      "Downloading 51 of 60 images\n",
      "Downloading 52 of 60 images\n",
      "Downloading 53 of 60 images\n",
      "Downloading 54 of 60 images\n",
      "Downloading 55 of 60 images\n",
      "Downloading 56 of 60 images\n",
      "Downloading 57 of 60 images\n",
      "Downloading 58 of 60 images\n",
      "Downloading 59 of 60 images\n",
      "Downloading 60 of 60 images\n"
     ]
    }
   ],
   "source": [
    "   for index,link in enumerate(urls):\n",
    "        print(\"Downloading {0} of {1} images\".format(index+1, len(urls)))\n",
    "        response = requests.get(link)\n",
    "        with open('image-{}.jpg'.format(index+61),\"wb\") as file:\n",
    "            file.write(response.content)"
   ]
  },
  {
   "cell_type": "code",
   "execution_count": 137,
   "metadata": {},
   "outputs": [],
   "source": [
    "Url4 = webo.get('https://www.amazon.in/s?k=men+trousers&page=2&crid=16IPSRSTFDEOJ&qid=1593912911&sprefix=Men+trouser%2Caps%2C347&ref=sr_pg_1')"
   ]
  },
  {
   "cell_type": "code",
   "execution_count": null,
   "metadata": {},
   "outputs": [],
   "source": [
    "#MEN_JEANS"
   ]
  },
  {
   "cell_type": "code",
   "execution_count": 151,
   "metadata": {},
   "outputs": [],
   "source": [
    "Dirname2 = \"Men_Jeans\"\n",
    "make_directory(Dirname2)"
   ]
  },
  {
   "cell_type": "code",
   "execution_count": 141,
   "metadata": {},
   "outputs": [],
   "source": [
    "url5 = webo.get('https://www.amazon.in/s?k=men+jeans&ref=nb_sb_noss_2')"
   ]
  },
  {
   "cell_type": "code",
   "execution_count": 148,
   "metadata": {},
   "outputs": [
    {
     "name": "stdout",
     "output_type": "stream",
     "text": [
      "https://m.media-amazon.com/images/I/71E1-wCD7jL._AC_UL320_.jpg\n",
      "https://m.media-amazon.com/images/I/71slLtKFeAL._AC_UL320_.jpg\n",
      "https://m.media-amazon.com/images/I/81VtUavKLcL._AC_UL320_.jpg\n",
      "https://m.media-amazon.com/images/I/813Zrqjg4PL._AC_UL320_.jpg\n",
      "https://m.media-amazon.com/images/I/81tSAogbWcL._AC_UL320_.jpg\n",
      "https://m.media-amazon.com/images/I/61T9ZII6F6L._AC_UL320_.jpg\n",
      "https://m.media-amazon.com/images/I/51UlwkHPtmL._AC_UL320_.jpg\n",
      "https://m.media-amazon.com/images/I/61ZGXTSfA3L._AC_UL320_.jpg\n",
      "https://m.media-amazon.com/images/I/81UDBeRfjlL._AC_UL320_.jpg\n",
      "https://m.media-amazon.com/images/I/41ipyFTyb-L._AC_UL320_.jpg\n",
      "https://m.media-amazon.com/images/I/71yrEovAM0L._AC_UL320_.jpg\n",
      "https://m.media-amazon.com/images/I/81bUS0EXJUL._AC_UL320_.jpg\n",
      "https://m.media-amazon.com/images/I/91BZB51YS6L._AC_UL320_.jpg\n",
      "https://m.media-amazon.com/images/I/81EEP9Oe9rL._AC_UL320_.jpg\n",
      "https://m.media-amazon.com/images/I/91LbXqt+8WL._AC_UL320_.jpg\n",
      "https://m.media-amazon.com/images/I/81KzCCtFUTL._AC_UL320_.jpg\n",
      "https://m.media-amazon.com/images/I/81myDUBZdrL._AC_UL320_.jpg\n",
      "https://m.media-amazon.com/images/I/61PJp-UGw8L._AC_UL320_.jpg\n",
      "https://m.media-amazon.com/images/I/61nJ6tJX0VL._AC_UL320_.jpg\n",
      "https://m.media-amazon.com/images/I/81kQjYzAEDL._AC_UL320_.jpg\n",
      "https://m.media-amazon.com/images/I/71zJGnP4-BL._AC_UL320_.jpg\n",
      "https://m.media-amazon.com/images/I/71IbGOvXhUL._AC_UL320_.jpg\n",
      "https://m.media-amazon.com/images/I/61VWISsdmBL._AC_UL320_.jpg\n",
      "https://m.media-amazon.com/images/I/71PHcwlCj8L._AC_UL320_.jpg\n",
      "https://m.media-amazon.com/images/I/41lacwsOLAL._AC_UL320_.jpg\n",
      "https://m.media-amazon.com/images/I/91jIJy6iOIL._AC_UL320_.jpg\n",
      "https://m.media-amazon.com/images/I/61+e1RZI11L._AC_UL320_.jpg\n",
      "https://m.media-amazon.com/images/I/81sexXdGL0L._AC_UL320_.jpg\n",
      "https://m.media-amazon.com/images/I/71-6vXF3UmL._AC_UL320_.jpg\n",
      "https://m.media-amazon.com/images/I/71vsuklP-hL._AC_UL320_.jpg\n",
      "https://m.media-amazon.com/images/I/81JfgEBtb1L._AC_UL320_.jpg\n",
      "https://m.media-amazon.com/images/I/814f35i5j8L._AC_UL320_.jpg\n",
      "https://m.media-amazon.com/images/I/61ZMrMANV2L._AC_UL320_.jpg\n",
      "https://m.media-amazon.com/images/I/81YCpBS1rlL._AC_UL320_.jpg\n",
      "https://m.media-amazon.com/images/I/61yK+TRN6qL._AC_UL320_.jpg\n",
      "https://m.media-amazon.com/images/I/719Kj4n2mAL._AC_UL320_.jpg\n",
      "https://m.media-amazon.com/images/I/81cOT4IQ2jL._AC_UL320_.jpg\n",
      "https://m.media-amazon.com/images/I/81EUToudE8L._AC_UL320_.jpg\n",
      "https://m.media-amazon.com/images/I/71MB3yNQc5L._AC_UL320_.jpg\n",
      "https://m.media-amazon.com/images/I/819sGQwrK2L._AC_UL320_.jpg\n",
      "https://m.media-amazon.com/images/I/61xg9CpjNjL._AC_UL320_.jpg\n",
      "https://m.media-amazon.com/images/I/91Ex8-hTBHL._AC_UL320_.jpg\n",
      "https://m.media-amazon.com/images/I/81KcPiaDQsL._AC_UL320_.jpg\n",
      "https://m.media-amazon.com/images/I/81vg6RsOgbL._AC_UL320_.jpg\n",
      "https://m.media-amazon.com/images/I/71mxwUNHXWL._AC_UL320_.jpg\n",
      "https://m.media-amazon.com/images/I/81xJuIkdhZL._AC_UL320_.jpg\n",
      "https://m.media-amazon.com/images/I/81OHIffVB8L._AC_UL320_.jpg\n",
      "https://m.media-amazon.com/images/I/71qpsMPjQIL._AC_UL320_.jpg\n",
      "https://m.media-amazon.com/images/I/61utcMgtMZL._AC_UL320_.jpg\n",
      "https://m.media-amazon.com/images/I/71FnM7rFxNL._AC_UL320_.jpg\n",
      "https://m.media-amazon.com/images/I/81aEMrPkHAL._AC_UL320_.jpg\n",
      "https://m.media-amazon.com/images/I/719nNtyoqSL._AC_UL320_.jpg\n",
      "https://m.media-amazon.com/images/I/91mXH+SEo7L._AC_UL320_.jpg\n",
      "https://m.media-amazon.com/images/I/81fwKepgI6L._AC_UL320_.jpg\n",
      "https://m.media-amazon.com/images/I/81rD0Tg5c3L._AC_UL320_.jpg\n",
      "https://m.media-amazon.com/images/I/81kBjWx55vL._AC_UL320_.jpg\n",
      "https://m.media-amazon.com/images/I/71rbrKvOl4L._AC_UL320_.jpg\n",
      "https://m.media-amazon.com/images/I/61mF0Mz7P3L._AC_UL320_.jpg\n",
      "https://m.media-amazon.com/images/I/81JDkTqphKL._AC_UL320_.jpg\n",
      "https://m.media-amazon.com/images/I/81zCNxcGjSL._AC_UL320_.jpg\n"
     ]
    }
   ],
   "source": [
    "\n",
    "    images = webo.find_elements_by_xpath(\"//div[@class='a-section aok-relative s-image-tall-aspect']//img\")\n",
    "    \n",
    "    urls = []\n",
    "    for image in images:\n",
    "        source=image.get_attribute('src')\n",
    "        urls.append(source)\n",
    "        \n",
    "        print(source)"
   ]
  },
  {
   "cell_type": "code",
   "execution_count": 149,
   "metadata": {},
   "outputs": [
    {
     "data": {
      "text/plain": [
       "60"
      ]
     },
     "execution_count": 149,
     "metadata": {},
     "output_type": "execute_result"
    }
   ],
   "source": [
    "len(urls)"
   ]
  },
  {
   "cell_type": "code",
   "execution_count": 150,
   "metadata": {},
   "outputs": [
    {
     "name": "stdout",
     "output_type": "stream",
     "text": [
      "Downloading 1 of 60 images\n",
      "Downloading 2 of 60 images\n",
      "Downloading 3 of 60 images\n",
      "Downloading 4 of 60 images\n",
      "Downloading 5 of 60 images\n",
      "Downloading 6 of 60 images\n",
      "Downloading 7 of 60 images\n",
      "Downloading 8 of 60 images\n",
      "Downloading 9 of 60 images\n",
      "Downloading 10 of 60 images\n",
      "Downloading 11 of 60 images\n",
      "Downloading 12 of 60 images\n",
      "Downloading 13 of 60 images\n",
      "Downloading 14 of 60 images\n",
      "Downloading 15 of 60 images\n",
      "Downloading 16 of 60 images\n",
      "Downloading 17 of 60 images\n",
      "Downloading 18 of 60 images\n",
      "Downloading 19 of 60 images\n",
      "Downloading 20 of 60 images\n",
      "Downloading 21 of 60 images\n",
      "Downloading 22 of 60 images\n",
      "Downloading 23 of 60 images\n",
      "Downloading 24 of 60 images\n",
      "Downloading 25 of 60 images\n",
      "Downloading 26 of 60 images\n",
      "Downloading 27 of 60 images\n",
      "Downloading 28 of 60 images\n",
      "Downloading 29 of 60 images\n",
      "Downloading 30 of 60 images\n",
      "Downloading 31 of 60 images\n",
      "Downloading 32 of 60 images\n",
      "Downloading 33 of 60 images\n",
      "Downloading 34 of 60 images\n",
      "Downloading 35 of 60 images\n",
      "Downloading 36 of 60 images\n",
      "Downloading 37 of 60 images\n",
      "Downloading 38 of 60 images\n",
      "Downloading 39 of 60 images\n",
      "Downloading 40 of 60 images\n",
      "Downloading 41 of 60 images\n",
      "Downloading 42 of 60 images\n",
      "Downloading 43 of 60 images\n",
      "Downloading 44 of 60 images\n",
      "Downloading 45 of 60 images\n",
      "Downloading 46 of 60 images\n",
      "Downloading 47 of 60 images\n",
      "Downloading 48 of 60 images\n",
      "Downloading 49 of 60 images\n",
      "Downloading 50 of 60 images\n",
      "Downloading 51 of 60 images\n",
      "Downloading 52 of 60 images\n",
      "Downloading 53 of 60 images\n",
      "Downloading 54 of 60 images\n",
      "Downloading 55 of 60 images\n",
      "Downloading 56 of 60 images\n",
      "Downloading 57 of 60 images\n",
      "Downloading 58 of 60 images\n",
      "Downloading 59 of 60 images\n",
      "Downloading 60 of 60 images\n"
     ]
    }
   ],
   "source": [
    "   for index,link in enumerate(urls):\n",
    "        print(\"Downloading {0} of {1} images\".format(index+1, len(urls)))\n",
    "        response = requests.get(link)\n",
    "        with open('image-{}.jpg'.format(index+66),\"wb\") as file:\n",
    "            file.write(response.content)"
   ]
  },
  {
   "cell_type": "code",
   "execution_count": 147,
   "metadata": {},
   "outputs": [],
   "source": [
    "url6 = webo.get(\"https://www.amazon.in/s?k=men+jeans&page=2&qid=1593914037&ref=sr_pg_1\")"
   ]
  },
  {
   "cell_type": "code",
   "execution_count": null,
   "metadata": {},
   "outputs": [],
   "source": []
  }
 ],
 "metadata": {
  "kernelspec": {
   "display_name": "Python 3",
   "language": "python",
   "name": "python3"
  },
  "language_info": {
   "codemirror_mode": {
    "name": "ipython",
    "version": 3
   },
   "file_extension": ".py",
   "mimetype": "text/x-python",
   "name": "python",
   "nbconvert_exporter": "python",
   "pygments_lexer": "ipython3",
   "version": "3.7.3"
  }
 },
 "nbformat": 4,
 "nbformat_minor": 4
}
